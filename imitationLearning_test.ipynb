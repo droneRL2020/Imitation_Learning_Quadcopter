{
 "cells": [
  {
   "cell_type": "code",
   "execution_count": 123,
   "metadata": {
    "collapsed": true
   },
   "outputs": [],
   "source": [
    "import numpy as np\n",
    "import csv\n",
    "from PIL import Image\n",
    "import tensorflow as tf\n",
    "import tensorlayer as tl\n",
    "from tensorlayer.layers import *"
   ]
  },
  {
   "cell_type": "code",
   "execution_count": 119,
   "metadata": {
    "collapsed": true
   },
   "outputs": [],
   "source": [
    "action_list=[]\n",
    "img_list=[]"
   ]
  },
  {
   "cell_type": "code",
   "execution_count": 120,
   "metadata": {},
   "outputs": [],
   "source": [
    "file = open('roll_record.csv', 'r', encoding='utf-8')\n",
    "saved_file = csv.reader(file)\n",
    "\n",
    "action_list = []\n",
    "for line in saved_file:\n",
    "    action = line[0]\n",
    "    action_list.append(action)\n",
    "#print(action_list)\n",
    "file.close()  "
   ]
  },
  {
   "cell_type": "code",
   "execution_count": 121,
   "metadata": {},
   "outputs": [],
   "source": [
    "for i in range(0,212):\n",
    "    input_img = Image.open(\"D:\\Imitation-Learning-Dagger-Torcs\\dcu\\image\\image_%d.jpg\" % i)\n",
    "    img_list.append(input_img)"
   ]
  },
  {
   "cell_type": "code",
   "execution_count": 122,
   "metadata": {},
   "outputs": [],
   "source": [
    "def img_reshape(input_img):\n",
    "    \"\"\" (3, 64, 64) --> (64, 64, 3) \"\"\"\n",
    "    _img = np.transpose(input_img, (1, 2, 0))\n",
    "    _img = np.flipud(_img)\n",
    "    _img = np.resize(_img, (1, 64, 64, 3))\n",
    "    return _img"
   ]
  },
  {
   "cell_type": "code",
   "execution_count": 147,
   "metadata": {
    "collapsed": true
   },
   "outputs": [],
   "source": [
    "# Get roll input only now\n",
    "num_actions = 1"
   ]
  },
  {
   "cell_type": "code",
   "execution_count": 148,
   "metadata": {
    "collapsed": true
   },
   "outputs": [],
   "source": [
    "images_all = np.zeros((0, 64, 64, 3))  # 처음 images_all 초기화\n",
    "actions_all = np.zeros((0, num_actions)) # 0이 None일 수 있음 \n",
    "#rewards_all = np.zeros((0,))"
   ]
  },
  {
   "cell_type": "code",
   "execution_count": 149,
   "metadata": {},
   "outputs": [
    {
     "name": "stdout",
     "output_type": "stream",
     "text": [
      "##################################################\n",
      "Packing data into arrays... \n"
     ]
    }
   ],
   "source": [
    "print(\"#\"*50)  \n",
    "print('Packing data into arrays... ')"
   ]
  },
  {
   "cell_type": "code",
   "execution_count": 151,
   "metadata": {},
   "outputs": [
    {
     "name": "stdout",
     "output_type": "stream",
     "text": [
      "##################################################\n",
      "Packing data into arrays... \n"
     ]
    }
   ],
   "source": [
    "print(\"#\"*50)  \n",
    "print('Packing data into arrays... ')  # Data패킹해주는 코드 아래에\n",
    "for img, act in zip(img_list, action_list): # 받은 img_list가 이미 있고 그로부터 하나씩 변환해서 다시쌓기\n",
    "    images_all = np.concatenate([images_all, img_reshape(img)], axis=0)  # images_all에 Data 패킹해주고\n",
    "    actions_all = np.concatenate([actions_all, np.reshape(act, [1,num_actions])], axis=0) # action 도 패킹해주고\n",
    "    #rewards_all = np.concatenate([rewards_all, rew], axis=0)"
   ]
  },
  {
   "cell_type": "code",
   "execution_count": 154,
   "metadata": {},
   "outputs": [
    {
     "data": {
      "text/plain": [
       "(212, 64, 64, 3)"
      ]
     },
     "execution_count": 154,
     "metadata": {},
     "output_type": "execute_result"
    }
   ],
   "source": [
    "images_all.shape"
   ]
  },
  {
   "cell_type": "code",
   "execution_count": 155,
   "metadata": {},
   "outputs": [
    {
     "data": {
      "text/plain": [
       "(212, 1)"
      ]
     },
     "execution_count": 155,
     "metadata": {},
     "output_type": "execute_result"
    }
   ],
   "source": [
    "actions_all.shape"
   ]
  },
  {
   "cell_type": "code",
   "execution_count": 158,
   "metadata": {},
   "outputs": [],
   "source": [
    "# Save the expert's data\n",
    "tl.files.save_any_to_npy(save_dict={'im': images_all, 'act': actions_all}, name='_tmp.npy')\n",
    "\n",
    "# When loading the expert's data\n",
    "# data = tl.files.load_npy_to_any(name='_tmp.npy')\n",
    "# images_all = data['im']; actions_all = data['act']; rewards_all = data['re']"
   ]
  },
  {
   "cell_type": "code",
   "execution_count": 161,
   "metadata": {},
   "outputs": [
    {
     "name": "stdout",
     "output_type": "stream",
     "text": [
      "[*] creates image/teacher ...\n"
     ]
    }
   ],
   "source": [
    "# save every 10th expert's observation to train 나중에 10으로 바꿔\n",
    "# can check in teacher's folder\n",
    "tl.files.exists_or_mkdir('image/teacher', verbose=True)\n",
    "for i in range(0, len(images_all), 1):\n",
    "    tl.vis.save_image(images_all[i], 'image/teacher/im_%d.png' % i)"
   ]
  },
  {
   "cell_type": "code",
   "execution_count": 167,
   "metadata": {
    "collapsed": true
   },
   "outputs": [],
   "source": [
    "img_dim = [64, 64, 3]\n",
    "n_action = 1        # steer only (float, left and right 1 ~ -1)\n",
    "steps = 1000        # maximum step for a game\n",
    "batch_size = 32\n",
    "n_epoch = 100"
   ]
  },
  {
   "cell_type": "code",
   "execution_count": 169,
   "metadata": {},
   "outputs": [
    {
     "name": "stdout",
     "output_type": "stream",
     "text": [
      "  [TL] InputLayer  test1/in: (?, 64, 64, 3)\n",
      "  [TL] Conv2dLayer test1/c1/1: shape:[3, 3, 3, 32] strides:[1, 1, 1, 1] pad:VALID act:relu\n",
      "  [TL] Conv2dLayer test1/c1/2: shape:[3, 3, 32, 32] strides:[1, 1, 1, 1] pad:VALID act:relu\n",
      "  [TL] PoolLayer   test1/max1: ksize:[1, 2, 2, 1] strides:[1, 2, 2, 1] padding:VALID pool:max_pool\n",
      "  [TL] DropoutLayer test1/drop1: keep:0.750000 is_fix:True\n",
      "  [TL] Conv2dLayer test1/c2/1: shape:[3, 3, 32, 64] strides:[1, 1, 1, 1] pad:VALID act:relu\n",
      "  [TL] Conv2dLayer test1/c2/2: shape:[3, 3, 64, 64] strides:[1, 1, 1, 1] pad:VALID act:relu\n",
      "  [TL] PoolLayer   test1/max2: ksize:[1, 2, 2, 1] strides:[1, 2, 2, 1] padding:VALID pool:max_pool\n",
      "  [TL] DropoutLayer test1/drop2: keep:0.750000 is_fix:True\n",
      "  [TL] FlattenLayer test1/f: 10816\n",
      "  [TL] DenseLayer  test1/dense1: 512 relu\n",
      "  [TL] DropoutLayer test1/drop3: keep:0.500000 is_fix:True\n",
      "  [TL] DenseLayer  test1/o: 1 tanh\n",
      "  [TL] InputLayer  test1/in: (?, 64, 64, 3)\n",
      "  [TL] Conv2dLayer test1/c1/1: shape:[3, 3, 3, 32] strides:[1, 1, 1, 1] pad:VALID act:relu\n",
      "  [TL] Conv2dLayer test1/c1/2: shape:[3, 3, 32, 32] strides:[1, 1, 1, 1] pad:VALID act:relu\n",
      "  [TL] PoolLayer   test1/max1: ksize:[1, 2, 2, 1] strides:[1, 2, 2, 1] padding:VALID pool:max_pool\n",
      "  [TL] skip DropoutLayer\n",
      "  [TL] Conv2dLayer test1/c2/1: shape:[3, 3, 32, 64] strides:[1, 1, 1, 1] pad:VALID act:relu\n",
      "  [TL] Conv2dLayer test1/c2/2: shape:[3, 3, 64, 64] strides:[1, 1, 1, 1] pad:VALID act:relu\n",
      "  [TL] PoolLayer   test1/max2: ksize:[1, 2, 2, 1] strides:[1, 2, 2, 1] padding:VALID pool:max_pool\n",
      "  [TL] skip DropoutLayer\n",
      "  [TL] FlattenLayer test1/f: 10816\n",
      "  [TL] DenseLayer  test1/dense1: 512 relu\n",
      "  [TL] skip DropoutLayer\n",
      "  [TL] DenseLayer  test1/o: 1 tanh\n",
      "  [*] geting variables with test1\n",
      "\n",
      "  layer   0: test1_1/c1/1/Relu:0  (?, 62, 62, 32)    float32\n",
      "  layer   1: test1_1/c1/2/Relu:0  (?, 60, 60, 32)    float32\n",
      "  layer   2: test1_1/max1:0       (?, 30, 30, 32)    float32\n",
      "  layer   3: test1_1/c2/1/Relu:0  (?, 28, 28, 64)    float32\n",
      "  layer   4: test1_1/c2/2/Relu:0  (?, 26, 26, 64)    float32\n",
      "  layer   5: test1_1/max2:0       (?, 13, 13, 64)    float32\n",
      "  layer   6: test1_1/f:0          (?, 10816)         float32\n",
      "  layer   7: test1_1/dense1/Relu:0 (?, 512)           float32\n",
      "  layer   8: test1_1/o/Tanh:0     (?, 1)             float32\n",
      "\n",
      "  param   0: test1/c1/1/W_conv2d:0 (3, 3, 3, 32)      float32_ref\n",
      "  param   1: test1/c1/1/b_conv2d:0 (32,)              float32_ref\n",
      "  param   2: test1/c1/2/W_conv2d:0 (3, 3, 32, 32)     float32_ref\n",
      "  param   3: test1/c1/2/b_conv2d:0 (32,)              float32_ref\n",
      "  param   4: test1/c2/1/W_conv2d:0 (3, 3, 32, 64)     float32_ref\n",
      "  param   5: test1/c2/1/b_conv2d:0 (64,)              float32_ref\n",
      "  param   6: test1/c2/2/W_conv2d:0 (3, 3, 64, 64)     float32_ref\n",
      "  param   7: test1/c2/2/b_conv2d:0 (64,)              float32_ref\n",
      "  param   8: test1/dense1/W:0     (10816, 512)       float32_ref\n",
      "  param   9: test1/dense1/b:0     (512,)             float32_ref\n",
      "  param  10: test1/o/W:0          (512, 1)           float32_ref\n",
      "  param  11: test1/o/b:0          (1,)               float32_ref\n",
      "  num of params: 5604385\n",
      "\n",
      "Epoch [0/100] cost:2272942.854167 took:3.096800s\n",
      "Epoch [20/100] cost:2275597.000000 took:3.009197s\n",
      "Epoch [40/100] cost:2256571.041667 took:2.836559s\n",
      "Epoch [60/100] cost:2273538.520833 took:3.796708s\n",
      "Epoch [80/100] cost:2261728.500000 took:3.151753s\n",
      "[*] test1.npz saved\n"
     ]
    }
   ],
   "source": [
    "###================= Define model\n",
    "class Agent(object):\n",
    "    def __init__(self, name='model', sess=None):\n",
    "        assert sess != None\n",
    "        self.name = name\n",
    "        self.sess = sess\n",
    "\n",
    "        self.x = tf.placeholder(tf.float32, [None, 64, 64, 3], name='Observaion')\n",
    "        self.y = tf.placeholder(tf.float32, [None, 1], name='Steer')\n",
    "\n",
    "        self._build_net(True, False)\n",
    "        self._build_net(False, True)\n",
    "        self._define_train_ops()\n",
    "\n",
    "        tl.layers.initialize_global_variables(self.sess)\n",
    "\n",
    "        print()\n",
    "        self.n_test.print_layers()\n",
    "        print()\n",
    "        self.n_test.print_params(False)\n",
    "        print()\n",
    "        # exit()\n",
    "\n",
    "    def _build_net(self, is_train=True, reuse=None):\n",
    "        with tf.variable_scope(self.name, reuse=reuse) as vs:\n",
    "            tl.layers.set_name_reuse(reuse)\n",
    "\n",
    "            n = InputLayer(self.x / 255, name='in')\n",
    "\n",
    "            n = Conv2d(n, 32, (3, 3), (1, 1), tf.nn.relu, \"VALID\", name='c1/1')\n",
    "            n = Conv2d(n, 32, (3, 3), (1, 1), tf.nn.relu, \"VALID\", name='c1/2')\n",
    "            n = MaxPool2d(n, (2, 2), (2, 2), 'VALID', name='max1')\n",
    "\n",
    "            n = DropoutLayer(n, 0.75, is_fix=True, is_train=is_train, name='drop1')\n",
    "\n",
    "            n = Conv2d(n, 64, (3, 3), (1, 1), tf.nn.relu, \"VALID\", name='c2/1')\n",
    "            n = Conv2d(n, 64, (3, 3), (1, 1), tf.nn.relu, \"VALID\", name='c2/2')\n",
    "            n = MaxPool2d(n, (2, 2), (2, 2), 'VALID', name='max2')\n",
    "            # print(n.outputs)\n",
    "            n = DropoutLayer(n, 0.75, is_fix=True, is_train=is_train, name='drop2')\n",
    "\n",
    "            n = FlattenLayer(n, name='f')\n",
    "            n = DenseLayer(n, 512, tf.nn.relu, name='dense1')\n",
    "            n = DropoutLayer(n, 0.5, is_fix=True, is_train=is_train, name='drop3')\n",
    "            n = DenseLayer(n, 1, tf.nn.tanh, name='o')\n",
    "\n",
    "        if is_train:\n",
    "            self.n_train = n\n",
    "        else:\n",
    "            self.n_test = n\n",
    "\n",
    "    def _define_train_ops(self):\n",
    "        self.cost = tl.cost.mean_squared_error(self.n_train.outputs, self.y, is_mean=False)\n",
    "        self.train_params = tl.layers.get_variables_with_name(self.name, train_only=True, printable=False)\n",
    "        self.train_op = tf.train.AdamOptimizer(learning_rate=0.0001).minimize(self.cost, var_list=self.train_params)\n",
    "\n",
    "    def train(self, X, y, n_epoch=100, batch_size=10, print_freq=20):\n",
    "        for epoch in range(n_epoch):\n",
    "            start_time = time.time()\n",
    "            total_err, n_iter = 0, 0\n",
    "            for X_, y_ in tl.iterate.minibatches(X, y, batch_size, shuffle=True):\n",
    "                _, err = self.sess.run([self.train_op, self.cost], feed_dict={self.x: X_, self.y: y_})\n",
    "                total_err += err\n",
    "                n_iter += 1\n",
    "            if epoch % print_freq == 0:\n",
    "                print(\"Epoch [%d/%d] cost:%f took:%fs\" % (epoch, n_epoch, total_err/n_iter, time.time()-start_time))\n",
    "\n",
    "    def predict(self, image):\n",
    "        a = self.sess.run(self.n_test.outputs, {self.x : image})\n",
    "        return a\n",
    "\n",
    "    def save_model(self):\n",
    "        tl.files.save_npz(self.n_test.all_params, name=self.name+'.npz', sess=self.sess)\n",
    "\n",
    "    def load_model(self):\n",
    "        tl.files.load_and_assign_npz(sess=self.sess, name=self.name+'.npz', network=self.n_test)\n",
    "\n",
    "###===================== Pretrain model using data for demonstration\n",
    "sess = tf.InteractiveSession()\n",
    "model = Agent(name='test1', sess=sess)\n",
    "model.train(images_all, actions_all, n_epoch=n_epoch, batch_size=batch_size)\n",
    "# save model after pretraining\n",
    "model.save_model()\n",
    "# model.load_model()\n",
    "output_file = open('results.txt', 'w')"
   ]
  },
  {
   "cell_type": "code",
   "execution_count": null,
   "metadata": {
    "collapsed": true
   },
   "outputs": [],
   "source": []
  },
  {
   "cell_type": "code",
   "execution_count": null,
   "metadata": {
    "collapsed": true
   },
   "outputs": [],
   "source": []
  },
  {
   "cell_type": "code",
   "execution_count": null,
   "metadata": {
    "collapsed": true
   },
   "outputs": [],
   "source": []
  },
  {
   "cell_type": "code",
   "execution_count": null,
   "metadata": {
    "collapsed": true
   },
   "outputs": [],
   "source": []
  },
  {
   "cell_type": "code",
   "execution_count": null,
   "metadata": {
    "collapsed": true
   },
   "outputs": [],
   "source": []
  },
  {
   "cell_type": "code",
   "execution_count": null,
   "metadata": {
    "collapsed": true
   },
   "outputs": [],
   "source": []
  },
  {
   "cell_type": "code",
   "execution_count": null,
   "metadata": {
    "collapsed": true
   },
   "outputs": [],
   "source": []
  }
 ],
 "metadata": {
  "kernelspec": {
   "display_name": "Python 3",
   "language": "python",
   "name": "python3"
  },
  "language_info": {
   "codemirror_mode": {
    "name": "ipython",
    "version": 3
   },
   "file_extension": ".py",
   "mimetype": "text/x-python",
   "name": "python",
   "nbconvert_exporter": "python",
   "pygments_lexer": "ipython3",
   "version": "3.6.1"
  }
 },
 "nbformat": 4,
 "nbformat_minor": 2
}
